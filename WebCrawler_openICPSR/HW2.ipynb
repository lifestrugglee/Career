{
 "cells": [
  {
   "cell_type": "code",
   "execution_count": 1,
   "id": "0a879166",
   "metadata": {},
   "outputs": [],
   "source": [
    "import re\n",
    "import requests\n",
    "import json\n",
    "from bs4 import BeautifulSoup "
   ]
  },
  {
   "cell_type": "code",
   "execution_count": null,
   "id": "2c230631",
   "metadata": {},
   "outputs": [],
   "source": []
  },
  {
   "cell_type": "code",
   "execution_count": 2,
   "id": "5049cbd2",
   "metadata": {},
   "outputs": [],
   "source": [
    "headers = {\n",
    "\"Accept\": \"text/html,application/xhtml+xml,application/xml;q=0.9,image/webp,image/apng,*/*;q=0.8,application/signed-exchange;v=b3;q=0.9\", \n",
    "\"Accept-Encoding\": \"gzip, deflate, br\", \n",
    "\"Accept-Language\": \"en-US,en;q=0.9\", \n",
    "\"Dnt\": \"1\", \n",
    "# \"Host\": \"httpbin.org\", \n",
    "\"Upgrade-Insecure-Requests\": \"1\", \n",
    "\"User-Agent\": \"Mozilla/5.0 (Windows NT 10.0; Win64; x64) AppleWebKit/537.36 (KHTML, like Gecko) Chrome/98.0.4758.102 Safari/537.36\", \n",
    "}\n",
    "# rooturl = 'https://www.openicpsr.org/openicpsr/search/studies?start=25&ARCHIVE=openicpsr&sort=score%20desc%2CDATEUPDATED%20desc&rows=25&q=%22coronavirus%22%20OR%20tag%3A%22covid%2019%22%20OR%20%22coronavirus%22%20OR%20%22covid-19%22%20OR%20%22sars-cov-2%22'\n",
    "rooturl = 'https://www.openicpsr.org/openicpsr/search/studies?start=0&ARCHIVE=openicpsr&sort=score%20desc%2CDATEUPDATED%20desc&rows=163&q=%22coronavirus%22%20OR%20tag%3A%22covid%2019%22%20OR%20%22coronavirus%22%20OR%20%22covid-19%22%20OR%20%22sars-cov-2%22'\n",
    "r = requests.get(rooturl, headers=headers)\n"
   ]
  },
  {
   "cell_type": "code",
   "execution_count": 3,
   "id": "3ff09e08",
   "metadata": {},
   "outputs": [],
   "source": [
    "content = r.text\n",
    "\n",
    "# with open('tmp.txt', 'w', encoding='utf-8') as f:\n",
    "#     f.write(str(content))"
   ]
  },
  {
   "cell_type": "code",
   "execution_count": null,
   "id": "339f6125",
   "metadata": {},
   "outputs": [],
   "source": []
  },
  {
   "cell_type": "code",
   "execution_count": 4,
   "id": "39962db8",
   "metadata": {},
   "outputs": [
    {
     "name": "stdout",
     "output_type": "stream",
     "text": [
      "163 ['128303', '130561', '119901', '129181', '130763', '120342', '131022', '135162', '146701', '145402', '144903', '161241', '130646', '119061', '132401', '155021', '161502', '130422', '143843', '139901', '132981', '125222', '135922', '144061', '150541', '142222', '160881', '151381', '138562', '152781', '119446', '138542', '119156', '149261', '125441', '120308', '134681', '128681', '126581', '155241', '129101', '145681', '120450', '123601', '147965', '142121', '139263', '148021', '127461', '154882', '143321', '153141', '134061', '139142', '144861', '131761', '148701', '120312', '144261', '139461', '123401', '120596', '119081', '120321', '140701', '137501', '158901', '120448', '119629', '133601', '144201', '151041', '145581', '145641', '145901', '137621', '160181', '130381', '127641', '155701', '140481', '152821', '155024', '130981', '127041', '150042', '135121', '156302', '148881', '129161', '149421', '132521', '161504', '155842', '139021', '155185', '148402', '124902', '120689', '139305', '138041', '139101', '136581', '145661', '160741', '158142', '133002', '139962', '119321', '121361', '146641', '119159', '155381', '137321', '123804', '119198', '121961', '138122', '154469', '119503', '155321', '129183', '120803', '127081', '158521', '120552', '118584', '149281', '147921', '146302', '153001', '156861', '127341', '144983', '138901', '120310', '134402', '126301', '126281', '114517', '155101', '156541', '150081', '147422', '102501', '161281', '158082', '139682', '152221', '151305', '150881', '143981', '122962', '130626', '149801', '116398', '113312', '117242', '100274', '100202', '152961', '101177', '101153']\n"
     ]
    }
   ],
   "source": [
    "idls = re.findall(r'\"ID\":([\\d]+)', content)\n",
    "print(len(idls), idls)\n",
    "\n"
   ]
  },
  {
   "cell_type": "code",
   "execution_count": 29,
   "id": "abacb43a",
   "metadata": {},
   "outputs": [
    {
     "name": "stdout",
     "output_type": "stream",
     "text": [
      "65\n"
     ]
    }
   ],
   "source": [
    "for i in range(len(idls)):\n",
    "    if idls[i] == '137501':\n",
    "        print(i)"
   ]
  },
  {
   "cell_type": "code",
   "execution_count": 58,
   "id": "7c7adb76",
   "metadata": {},
   "outputs": [
    {
     "name": "stdout",
     "output_type": "stream",
     "text": [
      "/\n",
      "<\n",
      "?\n",
      ">\n",
      "|\n",
      "\\\n",
      "#\\\n",
      "\\\n"
     ]
    }
   ],
   "source": [
    "charc = r'([<>#/\\\\|\\?]+)'#:\"\\/\\\\|?\\*\n",
    "tmp = 'Data_/and<_?Code>_|for_\"Compliance\\_#\\with_Social_\\Distancing__Theory_and_Empirical_Evidence_from_Ontario_during_COVID-19\".js'\n",
    "for i in re.findall(charc, tmp):\n",
    "    print(i)"
   ]
  },
  {
   "cell_type": "code",
   "execution_count": null,
   "id": "9cbb221a",
   "metadata": {},
   "outputs": [],
   "source": []
  },
  {
   "cell_type": "markdown",
   "id": "83e27a72",
   "metadata": {},
   "source": [
    "# Entity Extraction Prep."
   ]
  },
  {
   "cell_type": "code",
   "execution_count": null,
   "id": "ae1fd94b",
   "metadata": {},
   "outputs": [],
   "source": []
  },
  {
   "cell_type": "code",
   "execution_count": 6,
   "id": "cd8f4090",
   "metadata": {},
   "outputs": [],
   "source": [
    "class jsonParser():\n",
    "    def __init__(self):\n",
    "        self.json_temp = {\n",
    "               \"@context\":\"https://schema.org/\",\n",
    "               \"@type\":\"Dataset\",\n",
    "               \"name\":\"\",\n",
    "               \"identifier\":\"\",\n",
    "               \"description\":\"\",\n",
    "               \"conditionsOfAccess\":\"\",\n",
    "               \"sameAs\":\"\",\n",
    "               \"keywords\":[],\n",
    "               \"additionalType\":\"Datatype\",\n",
    "               \"variableMeasured\":[\n",
    "                  \"Variable: What kind of column contains in the data\"\n",
    "               ],\n",
    "               \"isBasedOn\":{\n",
    "                  \"@type\":\"CreativeWork\",\n",
    "                  \"sourceOrganization\":\"\"\n",
    "               },\n",
    "               \"inLanguage\":\"\",\n",
    "               \"license\":\"\",\n",
    "               \"hasPart\":[],\n",
    "               \"creator\":{\n",
    "                  \"@type\":\"Organization\",\n",
    "                  \"employees\":{\n",
    "                     \"@type\":\"Person\",\n",
    "                     \"name\":\"\"\n",
    "                  },\n",
    "                  \"name\":\"\",\n",
    "                  \"contactPoint\":{\n",
    "                     \"@type\":\"ContactPoint\",\n",
    "                     \"email\":\"\"\n",
    "                  },\n",
    "                  \"location\":\"\"\n",
    "               },\n",
    "               \"publication\":{\n",
    "                  \"@type\":\"publicationEvent\",\n",
    "                  \"name\":\"\",\n",
    "                  \"identifier\":{\n",
    "                     \"@type\":\"PropertyValue\",\n",
    "                     \"propertyID\":[]\n",
    "                  }\n",
    "               },\n",
    "               \"author\":\"authors name\",\n",
    "               \"dateCreated\":\"yyyy-mm-dd\",\n",
    "               \"dateModified\":\"yyyy-mm-dd\",\n",
    "               \"distribution\":[\n",
    "                  # {\n",
    "                  #    \"@type\":\"DataDownload\",\n",
    "                  #    \"encodingFormat\":\"\",\n",
    "                  #    \"contentUrl\":\"\"\n",
    "                  # }\n",
    "               ],\n",
    "               \"spatialCoverage\":{\n",
    "                  \"@type\":\"Place\",\n",
    "                  \"address\":{\n",
    "                     \"@type\":\"PostalAddress\",\n",
    "                     \"streetAddress\":\"\"\n",
    "                  }\n",
    "               },\n",
    "               \"locationCreated\":{\n",
    "                  \"@type\":\"Country\",\n",
    "                  \"name\":\"\"\n",
    "               },\n",
    "               \"url\":\"\",\n",
    "               \"comment\":\"\",\n",
    "               \"maintainer\":{\n",
    "                  \"@type\":\"Organization\",\n",
    "                  \"name\":\"\"\n",
    "               },\n",
    "               \"contentRating\":\"\",\n",
    "               \"rating\":{\n",
    "                  \"viewCount\":\"\",\n",
    "                  \"voteCount\":\"\",\n",
    "                  \"usabilityRating\":\"\",\n",
    "                  \"downloadCount\":\"\"\n",
    "               },\n",
    "               \"size\":\"\",\n",
    "               \"totalBytes\":\"\",\n",
    "               \"files\":[\n",
    "\n",
    "               ],\n",
    "               \"isReviewed\": \"N/A\",\n",
    "               \"hasData\": \"N/A\"\n",
    "            }\n",
    "    \n",
    "    def set_Name(self, namestr):\n",
    "        self.json_temp['name'] = namestr\n",
    "    def get_Name(self):\n",
    "        return self.json_temp['name']\n",
    "\n",
    "    def set_identifier(self, identifier_str):\n",
    "        self.json_temp[\"identifier\"] = identifier_str\n",
    "\n",
    "    def set_description(self, description_str):\n",
    "        self.json_temp[\"description\"] = description_str\n",
    "\n",
    "    def set_conditionsOfAccess(self, conditionsOfAccess_str):\n",
    "        self.json_temp[\"conditionsOfAccess\"] = conditionsOfAccess_str\n",
    "\n",
    "    def set_sameAs(self, sameAs_str):\n",
    "        self.json_temp[\"sameAs\"] = sameAs_str\n",
    "\n",
    "    def set_additionalType(self, additionalType_str):\n",
    "        self.json_temp[\"additionalType\"] = additionalType_str\n",
    "\n",
    "    def set_inLanguage(self, inLanguage_str):\n",
    "        self.json_temp[\"inLanguage\"] = inLanguage_str\n",
    "\n",
    "    def set_license(self, license_str):\n",
    "        self.json_temp[\"license\"] = license_str\n",
    "\n",
    "    def set_url(self, url_str):\n",
    "        self.json_temp[\"url\"] = url_str\n",
    "\n",
    "    def set_comment(self, comment_str):\n",
    "        self.json_temp[\"comment\"] = comment_str\n",
    "\n",
    "    def set_author(self, author_str):\n",
    "        self.json_temp[\"author\"] = author_str\n",
    "\n",
    "    def set_dateCreated(self, dateCreated_str):\n",
    "        self.json_temp[\"dateCreated\"] = dateCreated_str\n",
    "\n",
    "    def set_dateModified(self, dateModified_str):\n",
    "        self.json_temp[\"dateModified\"] = dateModified_str\n",
    "\n",
    "    def set_size(self, size_str):\n",
    "        self.json_temp[\"size\"] = size_str\n",
    "\n",
    "    def set_totalBytes(self, totalBytes_str):\n",
    "        self.json_temp[\"totalBytes\"] = totalBytes_str\n",
    "\n",
    "    def set_contentRating(self, contentRating_str):\n",
    "        self.json_temp[\"contentRating\"] = contentRating_str\n",
    "\n",
    "    def set_isReviewed(self, isReviewed_str):\n",
    "        self.json_temp[\"isReviewed\"] = isReviewed_str\n",
    "\n",
    "    def set_hasData(self, hasData_str):\n",
    "        self.json_temp[\"hasData\"] = hasData_str\n",
    "\n",
    "        \n",
    "    def set_keywords_ls(self, keywords_str):\n",
    "        self.json_temp[\"keywords\"].append(keywords_str)\n",
    "        \n",
    "    def set_hasPart_ls(self, hasPart_str):\n",
    "        self.json_temp[\"hasPart\"].append(hasPart_str)\n",
    "        \n",
    "    def set_files_ls(self, files_str):\n",
    "        self.json_temp[\"files\"].append(files_str)\n",
    "\n",
    "    def set_variableMeasured_ls(self, variableMeasured_str):\n",
    "        self.json_temp[\"variableMeasured\"].append(variableMeasured_str)   \n",
    "    \n",
    "    def set_rating_viewCount(self, viewCount_int):\n",
    "        self.json_temp[\"rating\"][\"viewCount\"] = viewCount_int\n",
    "    def set_rating_voteCount(self, voteCount_int):\n",
    "        self.json_temp[\"rating\"][\"voteCount\"] = voteCount_int\n",
    "    def set_rating_usabilityRating(self, usabilityRating_int):\n",
    "        self.json_temp[\"rating\"][\"usabilityRating\"] = usabilityRating_int\n",
    "    def set_rating_downloadCount(self, downloadCount_int):\n",
    "        self.json_temp[\"rating\"][\"downloadCount\"] = downloadCount_int \n",
    "        \n",
    "    def set_sourceOrganization(self, sourceOrg_str, atType_str='CreativeWork'):\n",
    "        self.json_temp[\"isBasedOn\"]['@type'] = atType_str\n",
    "        self.json_temp[\"isBasedOn\"]['sourceOrganization'] = sourceOrg_str\n",
    "        \n",
    "    def set_maintainer_name(self, maintainer_name_str, maintain_type='Organization'):\n",
    "        self.json_temp['maintainer']['@type'] = maintain_type\n",
    "        self.json_temp['maintainer']['name'] = maintainer_name_str\n",
    "    \n",
    "    def set_location_name(self, location_name_str, location_type='Organization'):\n",
    "        self.json_temp['location']['@type'] = location_type\n",
    "        self.json_temp['location']['name'] = location_name_str\n",
    "\n",
    "    def set_distributionInfo(self,encoding_form, content_url, distr_type = \"DataDownload\"):\n",
    "        self.json_temp['distribution'].append(\n",
    "                {\n",
    "                    \"@type\": distr_type,\n",
    "                    \"encodingFormat\":encoding_form,\n",
    "                    \"contentUrl\": content_url\n",
    "                }\n",
    "            )\n",
    "    def set_spatialInfo(self, address_str, addressType=\"PostalAddress\", spatialType=\"Place\"):\n",
    "        self.json_temp['spatialCoverage']['@type'] = spatialType\n",
    "        self.json_temp['spatialCoverage']['address']['@type'] = addressType\n",
    "        self.json_temp['spatialCoverage']['address']['streetAddress'] = address_str\n",
    "    \n",
    "    def set_creatorInfo(self, employeeName, orgName, email, org_loc, creator_type=\"Organization\", contact_type=\"ContactPoint\"):\n",
    "        self.json_temp[\"creator\"]['employees']['name'] = employeeName\n",
    "        self.json_temp[\"creator\"]['name'] = orgName\n",
    "        self.json_temp[\"creator\"]['contactPoint']['email'] = email\n",
    "        self.json_temp[\"creator\"]['location'] = org_loc\n",
    "\n",
    "        self.json_temp[\"creator\"]['@type'] = creator_type\n",
    "        self.json_temp[\"creator\"]['contactPoint']['@type'] = contact_type\n",
    "            \n",
    "    def set_publicationInfo(self, publication_name, propertyID, publicType=\"publicationEvent\", identifier_type=\"PropertyValue\"):\n",
    "        self.json_temp['publication']['@type'] = publicType\n",
    "        self.json_temp['publication']['name'] = publication_name\n",
    "        self.json_temp['publication']['identifier']['@type'] = identifier_type\n",
    "        self.json_temp['publication']['identifier']['propertyID'].append(propertyID)\n",
    "    \n",
    "    def saveJSON2file(self, dirpath):\n",
    "        json_string = json.dumps(self.json_temp)\n",
    "        filepath = os.path.join(dirpath, f\"{self.get_Name().replace(' ', '_').replace(':', '_')}.json\")\n",
    "        with open(filepath, 'w') as outf:\n",
    "            json.dump(json_string, outf)\n",
    "        print(f'Json file is saved at {filepath}')"
   ]
  },
  {
   "cell_type": "code",
   "execution_count": null,
   "id": "ae34b4c3",
   "metadata": {},
   "outputs": [],
   "source": []
  },
  {
   "cell_type": "markdown",
   "id": "12952eb8",
   "metadata": {},
   "source": [
    "# Further extraction in one data and seperate"
   ]
  },
  {
   "cell_type": "code",
   "execution_count": 17,
   "id": "d8aa7242",
   "metadata": {},
   "outputs": [
    {
     "name": "stdout",
     "output_type": "stream",
     "text": [
      "https://www.openicpsr.org/openicpsr/project/154882/view\n"
     ]
    }
   ],
   "source": [
    "idnum = '154882'\n",
    "# idnum = idls[0]\n",
    "urlf = 'https://www.openicpsr.org/openicpsr/project/{}/view'\n",
    "url = urlf.format(idnum)\n",
    "print(url)\n",
    "jsonbox = jsonParser()"
   ]
  },
  {
   "cell_type": "code",
   "execution_count": null,
   "id": "12e227b0",
   "metadata": {},
   "outputs": [],
   "source": []
  },
  {
   "cell_type": "code",
   "execution_count": 18,
   "id": "4611c50c",
   "metadata": {},
   "outputs": [
    {
     "data": {
      "text/plain": [
       "200"
      ]
     },
     "execution_count": 18,
     "metadata": {},
     "output_type": "execute_result"
    }
   ],
   "source": [
    "r1 = requests.get(url, headers=headers)\n",
    "content = r1.text\n",
    "# content = content.split('ent(SearchPage,')[1]\n",
    "# with open('tmp.html', 'w', encoding='utf-8') as f:\n",
    "#     f.write(str(content))\n",
    "\n",
    "soup = BeautifulSoup(content, 'html.parser')\n",
    "sectionTag = soup.find(\"section\")\n",
    "\n",
    "r1.status_code"
   ]
  },
  {
   "cell_type": "code",
   "execution_count": null,
   "id": "c0166195",
   "metadata": {},
   "outputs": [],
   "source": []
  },
  {
   "cell_type": "code",
   "execution_count": 20,
   "id": "e8a99476",
   "metadata": {},
   "outputs": [],
   "source": [
    "# for set identifier\n",
    "jsonbox.set_identifier(idnum)"
   ]
  },
  {
   "cell_type": "code",
   "execution_count": 21,
   "id": "cfe4b97c",
   "metadata": {},
   "outputs": [],
   "source": [
    "# for set license and url\n",
    "tmp = sectionTag.find('div', attrs={'class', 'panel-heading'})\n",
    "for i in tmp.children:\n",
    "    if i.name is None:\n",
    "        i = i.strip()\n",
    "        if i != '' and 'no more than two line breaks' not in i and 'if it contains multiples' not in i:\n",
    "            jsonbox.set_description(i)\n",
    "            # print(repr(i))\n",
    "            break\n",
    "\n",
    "licenseinfo = sectionTag.find('div', attrs={'id':'projectLicense'}).text\n",
    "jsonbox.set_license(licenseinfo)\n",
    "jsonbox.set_url(url)"
   ]
  },
  {
   "cell_type": "code",
   "execution_count": 22,
   "id": "64658073",
   "metadata": {},
   "outputs": [],
   "source": [
    "# for set project name, creator name, creator organization, source organization\n",
    "tmp = sectionTag.find('div', attrs={'class': 'page-header'}).find('div', attrs={'class':'row'}).children\n",
    "tmp = [ i for i in tmp if i != '\\n']\n",
    "project_name = tmp[0].text.strip()\n",
    "jsonbox.set_Name(project_name)\n",
    "\n",
    "tmp = [i for i in tmp[1].children if i != '\\n']\n",
    "createrHtml = tmp[-2]\n",
    "\n",
    "tmp_creator = createrHtml.contents[-1].strip()\n",
    "try:\n",
    "    if ',' in tmp_creator:\n",
    "        name, organization = tmp_creator.split(',')\n",
    "    else:\n",
    "        organization = tmp_creator\n",
    "        name = None\n",
    "except:\n",
    "    name = tmp_creator.replace('\\n', '').replace('\\t', '').replace('\\r', '')\n",
    "    organization = None\n",
    "jsonbox.set_sourceOrganization(organization)\n",
    "jsonbox.set_creatorInfo(name, organization, None, None, creator_type=\"Organization\", contact_type=\"ContactPoint\")"
   ]
  },
  {
   "cell_type": "code",
   "execution_count": null,
   "id": "12948a11",
   "metadata": {},
   "outputs": [],
   "source": []
  },
  {
   "cell_type": "code",
   "execution_count": 23,
   "id": "20d22e94",
   "metadata": {},
   "outputs": [],
   "source": [
    "# for set distribution, date created, date modified\n",
    "tmp = sectionTag.find('div', attrs={'class': 'asideColumn'}).contents\n",
    "tmp = [i for i in tmp if i != '\\n']\n",
    "\n",
    "# \"distribution\": [{\"@type\": \"DataDownload\",\n",
    "#                 \"encodingFormat\": \"ZIP\",\n",
    "#                 \"contentUrl\": \"https://www.kaggle.com/davidbnn92/weather-data-for-covid19-data-analysis/download\"}\n",
    "#                 ]\n",
    "distURL = f\"https://www.openicpsr.org/{tmp[0].find('a')['href']}\"\n",
    "jsonbox.set_distributionInfo( 'URL', distURL)\n",
    "\n",
    "versionInfo = [i.text for i in tmp[2].find_all('a')]\n",
    "\n",
    "def getVersionDetail(versionStr):\n",
    "    # formate = 'V2 [2021-12-17]'\n",
    "    return re.findall(r'(V[\\d]+) \\[(.*)\\]', versionStr)[0]\n",
    "    \n",
    "vers, vers_date = getVersionDetail(versionInfo[0])\n",
    "jsonbox.set_dateModified(vers_date)\n",
    "\n",
    "vers, vers_date = getVersionDetail(versionInfo[-1])\n",
    "jsonbox.set_dateCreated(vers_date)"
   ]
  },
  {
   "cell_type": "code",
   "execution_count": 24,
   "id": "f816bd1c",
   "metadata": {},
   "outputs": [
    {
     "data": {
      "text/plain": [
       "'V1'"
      ]
     },
     "execution_count": 24,
     "metadata": {},
     "output_type": "execute_result"
    }
   ],
   "source": [
    "vers"
   ]
  },
  {
   "cell_type": "code",
   "execution_count": 15,
   "id": "0126d2b6",
   "metadata": {},
   "outputs": [],
   "source": [
    "# debug for set files\n",
    "# For Set Files\n",
    "def getAdditionDataInfo(target_url):\n",
    "    data_r = requests.get(target_url, headers=headers)\n",
    "    if data_r.status_code == 200:\n",
    "        soup = BeautifulSoup(data_r.text, 'html.parser')\n",
    "        sectionTag = soup.find(\"section\")\n",
    "        tbodyls = list(sectionTag.find('table', attrs={'class': 'table table-striped'}).find('tbody').children)\n",
    "        tbodyls = [ i for i in tbodyls if i != '\\n']\n",
    "        return tbodyls\n",
    "    else:\n",
    "        return []\n",
    "\n",
    "tbodyls = list(sectionTag.find('table', attrs={'class': 'table table-striped'}).find('tbody').children)\n",
    "tbodyls = [ i for i in tbodyls if i != '\\n']\n",
    "fileInfoDict = {}\n",
    "# Example of fileInfoDict:\n",
    "# fileInfoDict: {\".csv\":{\"count\": 2,\n",
    "#                        \"size\": 6405552} }\n",
    "unitLs = ['KB', 'MB', 'GB', 'TB']\n",
    "for tr in tbodyls:\n",
    "    td_tags = tr.find_all('td')\n",
    "    fileName = td_tags[0].text.strip()\n",
    "    fileType = td_tags[1].text.strip()\n",
    "    fileSize = td_tags[2].text.strip()\n",
    "\n",
    "    if fileSize == '' and fileType == '':\n",
    "        print('here')\n",
    "        appendUrl = td_tags[0].find('a')['href']\n",
    "        folderUrl = f'{url.split(idnum)[0]}{idnum}/version/{vers}/view{appendUrl}'\n",
    "        tmp_tbodyls = getAdditionDataInfo(folderUrl)\n",
    "        getFileInfo_dict(tmp_tbodyls, fileInfoDict)\n",
    "    else:\n",
    "        unit_inlist = False\n",
    "        for idx in range(len(unitLs)):\n",
    "            unit = unitLs[idx]\n",
    "            if unit in fileSize:\n",
    "                fileSize_bytes = float(fileSize.split(' ')[0]) * 1024**(idx+1)\n",
    "                unit_inlist = True\n",
    "                break\n",
    "        if unit_inlist is False and 'bytes' in fileSize:\n",
    "            fileSize_bytes = float(fileSize.split(' ')[0])\n",
    "\n",
    "        if fileType not in fileInfoDict.keys():\n",
    "            fileInfoDict[fileType] = {'count': 0, 'size': 0}\n",
    "        fileInfoDict[fileType]['count'] += 1\n",
    "        fileInfoDict[fileType]['size'] += fileSize_bytes\n",
    "\n"
   ]
  },
  {
   "cell_type": "code",
   "execution_count": 16,
   "id": "813f80ee",
   "metadata": {},
   "outputs": [
    {
     "ename": "NameError",
     "evalue": "name 'tmp_tbodyls' is not defined",
     "output_type": "error",
     "traceback": [
      "\u001b[1;31m---------------------------------------------------------------------------\u001b[0m",
      "\u001b[1;31mNameError\u001b[0m                                 Traceback (most recent call last)",
      "\u001b[1;32m~\\AppData\\Local\\Temp/ipykernel_5888/3610235525.py\u001b[0m in \u001b[0;36m<module>\u001b[1;34m\u001b[0m\n\u001b[1;32m----> 1\u001b[1;33m \u001b[1;32mfor\u001b[0m \u001b[0mtr\u001b[0m \u001b[1;32min\u001b[0m \u001b[0mtmp_tbodyls\u001b[0m\u001b[1;33m:\u001b[0m\u001b[1;33m\u001b[0m\u001b[1;33m\u001b[0m\u001b[0m\n\u001b[0m\u001b[0;32m      2\u001b[0m     \u001b[0mtd_tags\u001b[0m \u001b[1;33m=\u001b[0m \u001b[0mtr\u001b[0m\u001b[1;33m.\u001b[0m\u001b[0mfind_all\u001b[0m\u001b[1;33m(\u001b[0m\u001b[1;34m'td'\u001b[0m\u001b[1;33m)\u001b[0m\u001b[1;33m\u001b[0m\u001b[1;33m\u001b[0m\u001b[0m\n\u001b[0;32m      3\u001b[0m     \u001b[0mfileName\u001b[0m \u001b[1;33m=\u001b[0m \u001b[0mtd_tags\u001b[0m\u001b[1;33m[\u001b[0m\u001b[1;36m0\u001b[0m\u001b[1;33m]\u001b[0m\u001b[1;33m.\u001b[0m\u001b[0mtext\u001b[0m\u001b[1;33m.\u001b[0m\u001b[0mstrip\u001b[0m\u001b[1;33m(\u001b[0m\u001b[1;33m)\u001b[0m\u001b[1;33m\u001b[0m\u001b[1;33m\u001b[0m\u001b[0m\n\u001b[0;32m      4\u001b[0m     \u001b[0mfileType\u001b[0m \u001b[1;33m=\u001b[0m \u001b[0mtd_tags\u001b[0m\u001b[1;33m[\u001b[0m\u001b[1;36m1\u001b[0m\u001b[1;33m]\u001b[0m\u001b[1;33m.\u001b[0m\u001b[0mtext\u001b[0m\u001b[1;33m.\u001b[0m\u001b[0mstrip\u001b[0m\u001b[1;33m(\u001b[0m\u001b[1;33m)\u001b[0m\u001b[1;33m\u001b[0m\u001b[1;33m\u001b[0m\u001b[0m\n\u001b[0;32m      5\u001b[0m     \u001b[0mfileSize\u001b[0m \u001b[1;33m=\u001b[0m \u001b[0mtd_tags\u001b[0m\u001b[1;33m[\u001b[0m\u001b[1;36m2\u001b[0m\u001b[1;33m]\u001b[0m\u001b[1;33m.\u001b[0m\u001b[0mtext\u001b[0m\u001b[1;33m.\u001b[0m\u001b[0mstrip\u001b[0m\u001b[1;33m(\u001b[0m\u001b[1;33m)\u001b[0m\u001b[1;33m\u001b[0m\u001b[1;33m\u001b[0m\u001b[0m\n",
      "\u001b[1;31mNameError\u001b[0m: name 'tmp_tbodyls' is not defined"
     ]
    }
   ],
   "source": [
    "for tr in tmp_tbodyls:\n",
    "    td_tags = tr.find_all('td')\n",
    "    fileName = td_tags[0].text.strip()\n",
    "    fileType = td_tags[1].text.strip()\n",
    "    fileSize = td_tags[2].text.strip()\n",
    "    print(fileName, '--', fileType, '--', fileSize)"
   ]
  },
  {
   "cell_type": "code",
   "execution_count": null,
   "id": "1249ebe2",
   "metadata": {},
   "outputs": [],
   "source": [
    "# debug for set files\n",
    "tbodyls = list(sectionTag.find('table', attrs={'class': 'table table-striped'}).find('tbody').children)\n",
    "tbodyls = [ i for i in tbodyls if i != '\\n']\n",
    "fileInfoDict = {}\n",
    "folderUrl = 'https://www.openicpsr.org/openicpsr/project/138542/version/V1/view?path=/openicpsr/138542/fcr:versions/V1/AteksonKopeckyZha_AERPP_Figure1/Data&type=folder'\n",
    "tmp_tbodyls = getAdditionDataInfo(folderUrl)\n",
    "for tr in tmp_tbodyls:\n",
    "    td_tags = tr.find_all('td')\n",
    "    fileName = td_tags[0].text.strip()\n",
    "    fileType = td_tags[1].text.strip()\n",
    "    fileSize = td_tags[2].text.strip()\n",
    "\n",
    "    if fileSize == '' and fileType == '':\n",
    "        appendUrl = td_tags[0].find('a')['href']\n",
    "        folderUrl = f'{url.split(idnum)[0]}{idnum}/version/{vers}/view{appendUrl}'\n",
    "        tmp_tbodyls = getAdditionDataInfo(folderUrl)\n",
    "        raise ValueError()\n",
    "#         getFileInfo_dict(tmp_tbodyls, fileInfoDict)\n",
    "    else:\n",
    "        unit_inlist = False\n",
    "        for idx in range(len(unitLs)):\n",
    "            unit = unitLs[idx]\n",
    "            if unit in fileSize:\n",
    "                fileSize_bytes = float(fileSize.split(' ')[0]) * 1024**(idx+1)\n",
    "                unit_inlist = True\n",
    "                break\n",
    "        if unit_inlist is False and 'bytes' in fileSize:\n",
    "            fileSize_bytes = float(fileSize.split(' ')[0])\n",
    "\n",
    "        if fileType not in fileInfoDict.keys():\n",
    "            fileInfoDict[fileType] = {'count': 0, 'size': 0}\n",
    "        fileInfoDict[fileType]['count'] += 1\n",
    "        fileInfoDict[fileType]['size'] += fileSize_bytes\n",
    "\n"
   ]
  },
  {
   "cell_type": "code",
   "execution_count": null,
   "id": "7949c23c",
   "metadata": {},
   "outputs": [],
   "source": []
  },
  {
   "cell_type": "code",
   "execution_count": 25,
   "id": "bfe5082b",
   "metadata": {},
   "outputs": [
    {
     "name": "stdout",
     "output_type": "stream",
     "text": [
      "Castillo Makris Debs Adults Interview Guide.docx -- application/vnd.openxmlformats-officedocument.wordprocessingml.document -- 20.3 KB\n",
      "Castillo Makris Debs Data Access File.docx -- application/vnd.openxmlformats-officedocument.wordprocessingml.document -- 15 KB\n",
      "Castillo Makris Debs Parent AdolescentAssent English.docx -- application/vnd.openxmlformats-officedocument.wordprocessingml.document -- 41.5 KB\n",
      "Castillo Makris Debs Parent AdolescentAssent Spanish.docx -- application/vnd.openxmlformats-officedocument.wordprocessingml.document -- 33.3 KB\n",
      "Castillo Makris Debs Youth Interview Guide.docx -- application/vnd.openxmlformats-officedocument.wordprocessingml.document -- 21.6 KB\n",
      "Castillo Makris Debs Youth Verbal Consent.docx -- application/vnd.openxmlformats-officedocument.wordprocessingml.document -- 17.8 KB\n",
      "READ ME FIRST Castillo Makris Debs.docx -- application/vnd.openxmlformats-officedocument.wordprocessingml.document -- 15.7 KB\n"
     ]
    }
   ],
   "source": [
    "# For Set Files \n",
    "# further fix for some pages showing more than 5, catch the tage to adjust the url\n",
    "def getAdditionDataInfo(target_url):\n",
    "    data_r = requests.get(target_url, headers=headers)\n",
    "    if data_r.status_code == 200:\n",
    "        soup = BeautifulSoup(data_r.text, 'html.parser')\n",
    "        sectionTag = soup.find(\"section\")\n",
    "        tbodyls = list(sectionTag.find('table', attrs={'class': 'table table-striped'}).find('tbody').children)\n",
    "        tbodyls = [ i for i in tbodyls if i != '\\n']\n",
    "        return tbodyls\n",
    "    else:\n",
    "        return []\n",
    "\n",
    "def getFileInfo_dict(target_tbody_ls, fileInfoDict):\n",
    "    # Example of fileInfoDict:\n",
    "    # fileInfoDict: {\".csv\":{\"count\": 2,\n",
    "    #                        \"size\": 6405552} }\n",
    "    unitLs = ['KB', 'MB', 'GB', 'TB']\n",
    "    for tr in target_tbody_ls:\n",
    "        td_tags = tr.find_all('td')\n",
    "        fileName = td_tags[0].text.strip()\n",
    "        fileType = td_tags[1].text.strip()\n",
    "        fileSize = td_tags[2].text.strip()\n",
    "        print(fileName, '--', fileType, '--', fileSize)\n",
    "        if fileSize == '' and fileType == '':\n",
    "            appendUrl = td_tags[0].find('a')['href']\n",
    "            folderUrl = f'{url.split(idnum)[0]}{idnum}/version/{vers}/view{appendUrl}'\n",
    "            print(folderUrl)\n",
    "            tmp_tbodyls = getAdditionDataInfo(folderUrl)\n",
    "            getFileInfo_dict(tmp_tbodyls, fileInfoDict)\n",
    "        else:\n",
    "            unit_inlist = False\n",
    "            for idx in range(len(unitLs)):\n",
    "                unit = unitLs[idx]\n",
    "                if unit in fileSize:\n",
    "                    fileSize_bytes = float(fileSize.split(' ')[0]) * 1024**(idx+1)\n",
    "                    unit_inlist = True\n",
    "                    break\n",
    "            if unit_inlist is False and 'bytes' in fileSize:\n",
    "                fileSize_bytes = float(fileSize.split(' ')[0])\n",
    "                \n",
    "            if fileType not in fileInfoDict.keys():\n",
    "                fileInfoDict[fileType] = {'count': 0, 'size': 0}\n",
    "            fileInfoDict[fileType]['count'] += 1\n",
    "            fileInfoDict[fileType]['size'] += fileSize_bytes\n",
    "    return fileInfoDict\n",
    "\n",
    "tbodyls = list(sectionTag.find('table', attrs={'class': 'table table-striped'}).find('tbody').children)\n",
    "tbodyls = [ i for i in tbodyls if i != '\\n']\n",
    "fileDict = {}\n",
    "fileDict = getFileInfo_dict(tbodyls, fileDict)\n",
    "\n",
    "totalBytes = 0\n",
    "for fileType in fileDict.keys():\n",
    "    jsonbox.set_files_ls({\"name\": fileType, \"count\": fileDict[fileType]['count'], \"size\": fileDict[fileType]['size']})\n",
    "    totalBytes += fileDict[fileType]['size']\n",
    "\n",
    "def getCorrectUnit4file(fileBytes):\n",
    "    unitLs = ['B', 'KB', 'MB', 'GB', 'TB']\n",
    "    def getCount(filesz, count):\n",
    "        if filesz//1024**count > 0:\n",
    "            count += 1\n",
    "            count = getCount(filesz, count)\n",
    "        else:\n",
    "            count -= 1\n",
    "        return count\n",
    "    \n",
    "    times = getCount(fileBytes, 1)\n",
    "    return f'{fileBytes/1024**times:.1f} {unitLs[times]}'\n",
    "\n",
    "jsonbox.set_size(getCorrectUnit4file(totalBytes))\n",
    "jsonbox.set_totalBytes(totalBytes)"
   ]
  },
  {
   "cell_type": "code",
   "execution_count": null,
   "id": "c42e6558",
   "metadata": {},
   "outputs": [],
   "source": []
  },
  {
   "cell_type": "code",
   "execution_count": null,
   "id": "590e3cff",
   "metadata": {},
   "outputs": [],
   "source": [
    "ori_fun_ls = ['set_Name','set_identifier','set_description','set_conditionsOfAccess','set_sameAs','set_additionalType','set_inLanguage','set_license','set_url','set_comment','set_author','set_dateCreated','set_dateModified','set_size','set_totalBytes','set_contentRating','set_isReviewed','set_hasData','set_keywords_ls','set_hasPart_ls','set_files_ls','set_variableMeasured_ls','set_rating_viewCount','set_rating_voteCount','set_rating_usabilityRating','set_rating_downloadCount','set_sourceOrganization','set_maintainer_name','set_location_name','set_distributionInfo','set_spatialInfo','set_creatorInfo','set_publicationInfo',]\n",
    "cur_fun_ls = ['set_dateCreated', 'set_identifier', 'set_description', 'set_license', 'set_url', 'set_Name', 'set_sourceOrganization', 'set_creatorInfo', 'set_dateModified', 'set_files_ls', 'set_size', 'set_totalBytes', ]\n",
    "exclude_ls = ['set_distributionInfo', 'set_additionalType', 'set_inLanguage', 'set_comment', 'set_author', 'set_sameAs', 'set_conditionsOfAccess']\n",
    "idx = 1\n",
    "for i in ori_fun_ls:\n",
    "    if i not in cur_fun_ls and i not in exclude_ls:\n",
    "        print(idx, i)\n",
    "        idx += 1"
   ]
  },
  {
   "cell_type": "code",
   "execution_count": null,
   "id": "c11019da",
   "metadata": {},
   "outputs": [],
   "source": []
  },
  {
   "cell_type": "code",
   "execution_count": null,
   "id": "e575de49",
   "metadata": {},
   "outputs": [],
   "source": [
    "import os\n",
    "save_dir = os.path.join('.', 'json_file')\n",
    "if os.path.isdir(save_dir) is False:\n",
    "    os.mkdir(save_dir)\n",
    "\n",
    "jsonbox.saveJSON2file(save_dir)"
   ]
  },
  {
   "cell_type": "markdown",
   "id": "5d3c6676",
   "metadata": {},
   "source": [
    "# Further complete extraction"
   ]
  },
  {
   "cell_type": "code",
   "execution_count": null,
   "id": "48a10f13",
   "metadata": {},
   "outputs": [],
   "source": [
    "import time\n",
    "from random import randint"
   ]
  },
  {
   "cell_type": "code",
   "execution_count": null,
   "id": "87261ae6",
   "metadata": {},
   "outputs": [],
   "source": [
    "print('hehe')\n",
    "\n",
    "print('done')"
   ]
  }
 ],
 "metadata": {
  "kernelspec": {
   "display_name": "Python 3 (ipykernel)",
   "language": "python",
   "name": "python3"
  },
  "language_info": {
   "codemirror_mode": {
    "name": "ipython",
    "version": 3
   },
   "file_extension": ".py",
   "mimetype": "text/x-python",
   "name": "python",
   "nbconvert_exporter": "python",
   "pygments_lexer": "ipython3",
   "version": "3.7.9"
  }
 },
 "nbformat": 4,
 "nbformat_minor": 5
}
